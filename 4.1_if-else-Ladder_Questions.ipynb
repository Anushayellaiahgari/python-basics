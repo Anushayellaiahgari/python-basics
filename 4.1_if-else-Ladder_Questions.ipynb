{
 "cells": [
  {
   "cell_type": "raw",
   "metadata": {},
   "source": [
    "Read Five marks tamil,english,maths,science and social and if all marks are greater than 35 , print pass else print fail"
   ]
  },
  {
   "cell_type": "code",
   "execution_count": 11,
   "metadata": {},
   "outputs": [
    {
     "name": "stdout",
     "output_type": "stream",
     "text": [
      "Enter tamil marks:34\n",
      "Enter english marks:56\n",
      "Enter maths marks:78\n",
      "Enter science marks:89\n",
      "Enter social marks:76\n",
      "fail\n"
     ]
    }
   ],
   "source": [
    "tmarks=int(input(\"Enter tamil marks:\"))\n",
    "emarks=int(input(\"Enter english marks:\"))\n",
    "mmarks=int(input(\"Enter maths marks:\"))\n",
    "smarks=int(input(\"Enter science marks:\"))\n",
    "somarks=int(input(\"Enter social marks:\"))\n",
    "if tmarks>35:\n",
    "    if emarks>35:\n",
    "        if mmarks>35:\n",
    "            if smarks>35:\n",
    "                if somarks>35:\n",
    "                    print(\"pass\")\n",
    "                else:\n",
    "                    print(\"fail\")\n",
    "            else:\n",
    "                print(\"fail\")\n",
    "        else:\n",
    "            print(\"fail\")\n",
    "    else:\n",
    "        print(\"fail\")\n",
    "else:\n",
    "    print(\"fail\")"
   ]
  },
  {
   "cell_type": "code",
   "execution_count": null,
   "metadata": {},
   "outputs": [],
   "source": []
  },
  {
   "cell_type": "code",
   "execution_count": null,
   "metadata": {},
   "outputs": [],
   "source": []
  }
 ],
 "metadata": {
  "kernelspec": {
   "display_name": "Python 3 (ipykernel)",
   "language": "python",
   "name": "python3"
  },
  "language_info": {
   "codemirror_mode": {
    "name": "ipython",
    "version": 3
   },
   "file_extension": ".py",
   "mimetype": "text/x-python",
   "name": "python",
   "nbconvert_exporter": "python",
   "pygments_lexer": "ipython3",
   "version": "3.10.9"
  }
 },
 "nbformat": 4,
 "nbformat_minor": 2
}
